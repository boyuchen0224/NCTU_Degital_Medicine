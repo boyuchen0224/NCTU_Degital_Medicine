{
 "cells": [
  {
   "cell_type": "markdown",
   "metadata": {},
   "source": [
    "# Read text to dataframe"
   ]
  },
  {
   "cell_type": "code",
   "execution_count": 326,
   "metadata": {},
   "outputs": [],
   "source": [
    "import pandas as pd\n",
    "import numpy as np\n",
    "import matplotlib.pyplot as plt\n",
    "from os import listdir"
   ]
  },
  {
   "cell_type": "code",
   "execution_count": 327,
   "metadata": {},
   "outputs": [],
   "source": [
    "def readfile (filename):\n",
    "#     target = [\"IDENTIFICATION DATA :\", \"HISTORY OF PRESENT ILLNESS :\",\n",
    "#            \"PAST MEDICAL HISTORY :\", \"SOCIAL HISTORY :\", \"PHYSICAL EXAMINATION :\"]\n",
    "#     label_list = [\"UNKNOWN\", \"PAST SMOKER\", \"CURRENT SMOKER\", \"NON-SMOKER\"]\n",
    "    f = open(\"./data/Training data/\" + filename, \"r\")\n",
    "    txt = f.read().splitlines()\n",
    "\n",
    "    flag = False\n",
    "    content = \"\"\n",
    "    try:\n",
    "        label = filename.split(\"_\")[0]\n",
    "        _id = filename.split(\"_\")[2].split('.')[0]\n",
    "    except:\n",
    "        label = 0\n",
    "        _id = filename.split(\"_\")[1].split('.')[0]\n",
    "\n",
    "    for line in txt:\n",
    "#         if line in target:\n",
    "#             flag = True\n",
    "#             continue\n",
    "#         elif line[-1:] == \":\":\n",
    "#             flag = False\n",
    "        if line[-1:] == \":\" : \n",
    "            flag = True\n",
    "            continue\n",
    "        if flag:\n",
    "            content += (\" \" + line)\n",
    "            \n",
    "    return (content, label, _id)\n",
    "\n",
    "def files_to_df(files):\n",
    "    df = pd.DataFrame(columns = [\"content\", \"label\", \"id\"])\n",
    "    for file in files:\n",
    "        content, label, _id = readfile(file)\n",
    "        df = df.append({\n",
    "            \"content\": content,\n",
    "            \"label\": label,\n",
    "            \"id\": _id\n",
    "\n",
    "        }, ignore_index=True)\n",
    "    return df"
   ]
  },
  {
   "cell_type": "code",
   "execution_count": 328,
   "metadata": {},
   "outputs": [],
   "source": [
    "files = listdir(\"./data/Training data/\")\n",
    "df = files_to_df(files)\n",
    "# df.to_csv(\"./data/raw_data.csv\", index=False)\n"
   ]
  },
  {
   "cell_type": "markdown",
   "metadata": {},
   "source": [
    "# Text Processing"
   ]
  },
  {
   "cell_type": "code",
   "execution_count": 329,
   "metadata": {},
   "outputs": [],
   "source": [
    "import nltk\n",
    "from nltk.probability import FreqDist\n",
    "from nltk.corpus import stopwords\n",
    "from nltk.tokenize import word_tokenize \n",
    "from nltk.stem import WordNetLemmatizer, PorterStemmer\n",
    "from sklearn import model_selection\n",
    "\n",
    "# nltk.download(\"stopwords\")\n",
    "# nltk.download('punkt')\n",
    "# nltk.download('wordnet')\n",
    "stopwords = set(stopwords.words('english'))\n",
    "symbols   = ['.', ',', '’', '“', '”', '\"', \"''\",\n",
    "             \"'\", '*', '``', '**', '$', '%', '&', '#',\n",
    "             '-', '--', \"''\", '\"\"', '?', '!', ':', ';',\n",
    "             '(', ')', '[', ']', '{', '}', \"/\"]\n",
    "stopwords.update(symbols)\n",
    "\n",
    "lemmatizer = WordNetLemmatizer()\n",
    "stemmer = PorterStemmer()\n",
    "clean_content = []\n",
    "\n",
    "# tokenize, lemmatize, filter with stopwords\n",
    "for i in range(0, len(df[\"content\"])):\n",
    "    content = df[\"content\"][i]\n",
    "    word_list = word_tokenize(content.lower())\n",
    "    lemmatizer_stemming_content = \" \".join(\n",
    "        stemmer.stem(lemmatizer.lemmatize(word)) for word in word_list if word not in stopwords\n",
    "    )\n",
    "    clean_content.append(lemmatizer_stemming_content)\n",
    "\n",
    "df = df.assign(clean_content = clean_content)\n",
    "\n",
    "# label Y\n",
    "encoder = LabelEncoder()\n",
    "Y = encoder.fit_transform(df[\"label\"])\n",
    "\n",
    "# assign X\n",
    "X = clean_content"
   ]
  },
  {
   "cell_type": "markdown",
   "metadata": {},
   "source": [
    "## Freq words"
   ]
  },
  {
   "cell_type": "code",
   "execution_count": 330,
   "metadata": {},
   "outputs": [
    {
     "data": {
      "image/png": "[encoded data removed]",
      "text/plain": [
       "<Figure size 1152x288 with 1 Axes>"
      ]
     },
     "metadata": {
      "needs_background": "light"
     },
     "output_type": "display_data"
    },
    {
     "data": {
      "text/plain": [
       "<matplotlib.axes._subplots.AxesSubplot at 0x126cdff28>"
      ]
     },
     "execution_count": 330,
     "metadata": {},
     "output_type": "execute_result"
    }
   ],
   "source": [
    "all_words = []\n",
    "processed = df[\"clean_content\"]\n",
    "for message in processed:\n",
    "    words = word_tokenize(message)\n",
    "    for w in words:\n",
    "        all_words.append(w)\n",
    "        \n",
    "all_words = nltk.FreqDist(all_words)\n",
    "\n",
    "# show all words freq\n",
    "fdist_content = nltk.FreqDist(all_words)\n",
    "plt.figure(figsize=(16,4))\n",
    "fdist_content.plot(40,cumulative=False)"
   ]
  },
  {
   "cell_type": "code",
   "execution_count": 331,
   "metadata": {},
   "outputs": [],
   "source": [
    "def find_features(content):\n",
    "    words = word_tokenize(content)\n",
    "    features = {}\n",
    "    for word in word_features:\n",
    "        features[word] = (word in words)\n",
    "\n",
    "    return features\n",
    "\n",
    "# word features\n",
    "word_features = [\"smoke\", \"smoker\", \"tobacco\"]\n",
    "content_list = list(zip(X, Y))\n",
    "\n",
    "seed = 1\n",
    "np.random.seed = seed\n",
    "np.random.shuffle(content_list)\n",
    "\n",
    "# call find_features function for each SMS message\n",
    "featuresets = [(find_features(text), label) for (text, label) in content_list]\n",
    "\n",
    "# split data to training, testing\n",
    "training, testing = model_selection.train_test_split(featuresets, test_size = 0.33, random_state=seed)"
   ]
  },
  {
   "cell_type": "code",
   "execution_count": 337,
   "metadata": {},
   "outputs": [
    {
     "name": "stdout",
     "output_type": "stream",
     "text": [
      "K Nearest Neighbors Accuracy: 35.714285714285715\n",
      "Decision Tree Accuracy: 35.714285714285715\n",
      "Random Forest Accuracy: 35.714285714285715\n",
      "Logistic Regression Accuracy: 28.57142857142857\n",
      "SGD Classifier Accuracy: 35.714285714285715\n",
      "Naive Bayes Accuracy: 14.285714285714285\n",
      "SVM Linear Accuracy: 28.57142857142857\n"
     ]
    }
   ],
   "source": [
    "from sklearn.neighbors import KNeighborsClassifier\n",
    "from sklearn.tree import DecisionTreeClassifier\n",
    "from sklearn.ensemble import RandomForestClassifier\n",
    "from sklearn.linear_model import LogisticRegression, SGDClassifier\n",
    "from sklearn.naive_bayes import MultinomialNB\n",
    "from sklearn.svm import SVC\n",
    "from sklearn.metrics import classification_report, accuracy_score, confusion_matrix\n",
    "\n",
    "names = [\"K Nearest Neighbors\", \"Decision Tree\", \"Random Forest\", \"Logistic Regression\", \"SGD Classifier\",\n",
    "         \"Naive Bayes\", \"SVM Linear\"]\n",
    "\n",
    "classifiers = [\n",
    "    KNeighborsClassifier(),\n",
    "    DecisionTreeClassifier(),\n",
    "    RandomForestClassifier(),\n",
    "    LogisticRegression(),\n",
    "    SGDClassifier(max_iter = 100),\n",
    "    MultinomialNB(),\n",
    "    SVC(kernel = 'linear')\n",
    "]\n",
    "\n",
    "models = zip(names, classifiers)\n",
    "\n",
    "for name, model in models:\n",
    "    nltk_model = SklearnClassifier(model)\n",
    "    nltk_model.train(training)\n",
    "    accuracy = nltk.classify.accuracy(nltk_model, testing)*100\n",
    "    print(\"{} Accuracy: {}\".format(name, accuracy))"
   ]
  },
  {
   "cell_type": "code",
   "execution_count": 334,
   "metadata": {},
   "outputs": [
    {
     "name": "stdout",
     "output_type": "stream",
     "text": [
      "Voting Classifier: Accuracy: 28.57142857142857\n"
     ]
    }
   ],
   "source": [
    "# Ensemble methods - Voting classifier\n",
    "from sklearn.ensemble import VotingClassifier\n",
    "\n",
    "names = [\"K Nearest Neighbors\", \"Decision Tree\", \"Random Forest\", \"Logistic Regression\", \"SGD Classifier\",\n",
    "         \"Naive Bayes\", \"SVM Linear\"]\n",
    "\n",
    "classifiers = [\n",
    "    KNeighborsClassifier(),\n",
    "    DecisionTreeClassifier(),\n",
    "    RandomForestClassifier(),\n",
    "    LogisticRegression(),\n",
    "    SGDClassifier(max_iter = 100),\n",
    "    MultinomialNB(),\n",
    "    SVC(kernel = 'linear')\n",
    "]\n",
    "\n",
    "models = list(zip(names, classifiers))\n",
    "\n",
    "nltk_ensemble = SklearnClassifier(VotingClassifier(estimators = models, voting = 'hard', n_jobs = -1))\n",
    "nltk_ensemble.train(training)\n",
    "accuracy = nltk.classify.accuracy(nltk_model, testing)*100\n",
    "print(\"Voting Classifier: Accuracy: {}\".format(accuracy))"
   ]
  },
  {
   "cell_type": "code",
   "execution_count": 286,
   "metadata": {},
   "outputs": [],
   "source": [
    "# make class label prediction for testing set\n",
    "txt_features, labels = zip(*testing)\n",
    "\n",
    "prediction = nltk_ensemble.classify_many(txt_features)"
   ]
  },
  {
   "cell_type": "code",
   "execution_count": 287,
   "metadata": {},
   "outputs": [
    {
     "name": "stdout",
     "output_type": "stream",
     "text": [
      "              precision    recall  f1-score   support\n",
      "\n",
      "           0       0.50      0.50      0.50         2\n",
      "           1       0.00      0.00      0.00         3\n",
      "           2       0.00      0.00      0.00         4\n",
      "           3       0.50      1.00      0.67         5\n",
      "\n",
      "    accuracy                           0.43        14\n",
      "   macro avg       0.25      0.38      0.29        14\n",
      "weighted avg       0.25      0.43      0.31        14\n",
      "\n"
     ]
    },
    {
     "name": "stderr",
     "output_type": "stream",
     "text": [
      "/Library/Python/3.7/site-packages/sklearn/metrics/_classification.py:1272: UndefinedMetricWarning: Precision and F-score are ill-defined and being set to 0.0 in labels with no predicted samples. Use `zero_division` parameter to control this behavior.\n",
      "  _warn_prf(average, modifier, msg_start, len(result))\n"
     ]
    }
   ],
   "source": [
    "# print a confusion matrix and a classification report\n",
    "print(classification_report(labels, prediction))"
   ]
  },
  {
   "cell_type": "markdown",
   "metadata": {},
   "source": [
    "# TF-IDF (need to survey how does this work, not yet done)"
   ]
  },
  {
   "cell_type": "code",
   "execution_count": 150,
   "metadata": {},
   "outputs": [],
   "source": [
    "# need survey how does TF-IDF work, not yet done\n",
    "# from sklearn.feature_extraction.text import CountVectorizer\n",
    "from sklearn.feature_extraction.text import TfidfVectorizer\n",
    "\n",
    "clean_content = list(df[\"clean_content\"])\n",
    "tfidf = TfidfVectorizer(min_df = 1, max_df = 1, ngram_range = (1, 2))\n",
    "features = tfidf.fit_transform(clean_content)\n",
    "\n",
    "dfidf_df = pd.DataFrame(\n",
    "    features.todense(),\n",
    "    columns = tfidf.get_feature_names()\n",
    ")\n",
    "# dfidf_df"
   ]
  },
  {
   "cell_type": "code",
   "execution_count": null,
   "metadata": {},
   "outputs": [],
   "source": []
  }
 ],
 "metadata": {
  "kernelspec": {
   "display_name": "Python 3.7.3 64-bit",
   "language": "python",
   "name": "python37364bit739cdca6e79043be8d1a8bcadc93c81e"
  },
  "language_info": {
   "codemirror_mode": {
    "name": "ipython",
    "version": 3
   },
   "file_extension": ".py",
   "mimetype": "text/x-python",
   "name": "python",
   "nbconvert_exporter": "python",
   "pygments_lexer": "ipython3",
   "version": "3.7.3"
  }
 },
 "nbformat": 4,
 "nbformat_minor": 4
}
