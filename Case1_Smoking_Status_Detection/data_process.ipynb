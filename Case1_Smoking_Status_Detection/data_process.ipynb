{
 "cells": [
  {
   "cell_type": "markdown",
   "metadata": {},
   "source": [
    "# Read text to dataframe"
   ]
  },
  {
   "cell_type": "code",
   "execution_count": 17,
   "metadata": {},
   "outputs": [],
   "source": [
    "import pandas as pd\n",
    "import numpy as np\n",
    "import matplotlib.pyplot as plt\n",
    "from os import listdir"
   ]
  },
  {
   "cell_type": "code",
   "execution_count": 18,
   "metadata": {},
   "outputs": [],
   "source": [
    "def readfile (path, filename):\n",
    "    f = open(path + filename, \"r\")\n",
    "    txt = f.read().splitlines()\n",
    "\n",
    "    flag = False\n",
    "    content = \"\"\n",
    "    try:\n",
    "        label = filename.split(\"_\")[0]\n",
    "        _id = filename.split(\"_\")[2].split('.')[0]\n",
    "    except:\n",
    "        label = 0\n",
    "        _id = filename.split(\"_\")[1].split('.')[0]\n",
    "\n",
    "    for line in txt:\n",
    "        if line[-1:] == \":\" : \n",
    "            flag = True\n",
    "            continue\n",
    "        if flag:\n",
    "            content += (\" \" + line)\n",
    "            \n",
    "    return (content, label, _id)\n",
    "\n",
    "def files_to_df(path, files):\n",
    "    df = pd.DataFrame(columns = [\"content\", \"label\", \"id\"])\n",
    "    for file in files:\n",
    "        content, label, _id = readfile(path, file)\n",
    "        df = df.append({\n",
    "            \"content\": content,\n",
    "            \"label\": label,\n",
    "            \"id\": _id\n",
    "\n",
    "        }, ignore_index=True)\n",
    "    return df"
   ]
  },
  {
   "cell_type": "code",
   "execution_count": 19,
   "metadata": {},
   "outputs": [],
   "source": [
    "traning_files = listdir(\"./data/Training data/\")\n",
    "testing_files = listdir(\"./data/Testing data/\")\n",
    "df = files_to_df(\"./data/Training data/\", traning_files)\n",
    "df_test = files_to_df(\"./data/Testing data/\", testing_files)\n",
    "# df.to_csv(\"./data/traning_data.csv\", index=False)\n",
    "# df_test.to_csv(\"./data/testing_data.csv\", index=False)"
   ]
  },
  {
   "cell_type": "markdown",
   "metadata": {},
   "source": [
    "# Text Processing"
   ]
  },
  {
   "cell_type": "code",
   "execution_count": 20,
   "metadata": {},
   "outputs": [],
   "source": [
    "import nltk\n",
    "from nltk.probability import FreqDist\n",
    "from nltk.corpus import stopwords\n",
    "from nltk.tokenize import word_tokenize \n",
    "from nltk.stem import WordNetLemmatizer, PorterStemmer\n",
    "\n",
    "# nltk.download(\"stopwords\")\n",
    "# nltk.download('punkt')\n",
    "# nltk.download('wordnet')\n",
    "\n",
    "# stopwords setting\n",
    "stopwords = set(stopwords.words('english'))\n",
    "symbols   = ['.', ',', '’', '“', '”', '\"', \"''\",\n",
    "             \"'\", '*', '``', '**', '$', '%', '&', '#',\n",
    "             '-', '--', \"''\", '\"\"', '?', '!', ':', ';',\n",
    "             '(', ')', '[', ']', '{', '}', \"/\"]\n",
    "stopwords.update(symbols)\n",
    "\n",
    "\n",
    "# tokenize, lemmatize, stemming, filter with stopwords\n",
    "lemmatizer = WordNetLemmatizer()\n",
    "stemmer = PorterStemmer()\n",
    "clean_content = []\n",
    "\n",
    "for i in range(0, len(df[\"content\"])):\n",
    "    content = df[\"content\"][i]\n",
    "    word_list = word_tokenize(content.lower())\n",
    "    lemmatizer_stemming_content = \" \".join(\n",
    "        stemmer.stem(lemmatizer.lemmatize(word)) for word in word_list if word not in stopwords\n",
    "    )\n",
    "    clean_content.append(lemmatizer_stemming_content)\n",
    "    \n",
    "df = df.assign(clean_content = clean_content)\n",
    "\n",
    "clean_content = []\n",
    "\n",
    "for i in range(0, len(df_test[\"content\"])):\n",
    "    content = df_test[\"content\"][i]\n",
    "    word_list = word_tokenize(content.lower())\n",
    "    lemmatizer_stemming_content = \" \".join(\n",
    "        stemmer.stem(lemmatizer.lemmatize(word)) for word in word_list if word not in stopwords\n",
    "    )\n",
    "    clean_content.append(lemmatizer_stemming_content)\n",
    "\n",
    "df_test = df_test.assign(clean_content = clean_content)\n"
   ]
  },
  {
   "cell_type": "markdown",
   "metadata": {},
   "source": [
    "## Freq words"
   ]
  },
  {
   "cell_type": "code",
   "execution_count": 21,
   "metadata": {
    "scrolled": true
   },
   "outputs": [
    {
     "data": {
      "image/png": "[encoded data removed]",
      "text/plain": [
       "<Figure size 1152x288 with 1 Axes>"
      ]
     },
     "metadata": {
      "needs_background": "light"
     },
     "output_type": "display_data"
    },
    {
     "data": {
      "text/plain": [
       "<matplotlib.axes._subplots.AxesSubplot at 0x119984fd0>"
      ]
     },
     "execution_count": 21,
     "metadata": {},
     "output_type": "execute_result"
    }
   ],
   "source": [
    "all_words = []\n",
    "processed = df[\"clean_content\"]\n",
    "for message in processed:\n",
    "    words = word_tokenize(message)\n",
    "    for w in words:\n",
    "        all_words.append(w)\n",
    "        \n",
    "all_words = nltk.FreqDist(all_words)\n",
    "\n",
    "# show all words freq\n",
    "fdist_content = nltk.FreqDist(all_words)\n",
    "plt.figure(figsize=(16,4))\n",
    "fdist_content.plot(40,cumulative=False)"
   ]
  },
  {
   "cell_type": "markdown",
   "metadata": {},
   "source": [
    "## Training, Testing"
   ]
  },
  {
   "cell_type": "code",
   "execution_count": 22,
   "metadata": {},
   "outputs": [],
   "source": [
    "from sklearn.neighbors import KNeighborsClassifier\n",
    "from sklearn.tree import DecisionTreeClassifier\n",
    "from sklearn.ensemble import RandomForestClassifier\n",
    "from sklearn.linear_model import LogisticRegression, SGDClassifier\n",
    "from sklearn.naive_bayes import MultinomialNB\n",
    "from sklearn.svm import SVC\n",
    "from sklearn.metrics import classification_report, accuracy_score, confusion_matrix\n",
    "from nltk.classify import SklearnClassifier\n",
    "\n",
    "from sklearn import model_selection\n",
    "from sklearn.preprocessing import LabelEncoder\n",
    "\n",
    "def find_features(content):\n",
    "    words = word_tokenize(content)\n",
    "    features = {}\n",
    "    for word in word_features:\n",
    "        features[word] = (word in words)\n",
    "    return features"
   ]
  },
  {
   "cell_type": "code",
   "execution_count": 78,
   "metadata": {},
   "outputs": [
    {
     "name": "stdout",
     "output_type": "stream",
     "text": [
      "K Nearest Neighbors Accuracy: 64.28571428571429\n",
      "Decision Tree Accuracy: 64.28571428571429\n",
      "Random Forest Accuracy: 57.14285714285714\n",
      "Logistic Regression Accuracy: 71.42857142857143\n",
      "SGD Classifier Accuracy: 57.14285714285714\n",
      "Naive Bayes Accuracy: 35.714285714285715\n",
      "SVM Linear Accuracy: 71.42857142857143\n"
     ]
    }
   ],
   "source": [
    "# label Y\n",
    "encoder = LabelEncoder()\n",
    "Y = encoder.fit_transform(df[\"label\"])\n",
    "\n",
    "# assign X\n",
    "X = list(df[\"clean_content\"])\n",
    "X_testing = list(df_test[\"clean_content\"])\n",
    "\n",
    "# word features\n",
    "word_features = [\"smoke\", \"smoker\", \"tobacco\", \"addict\", \"drug\", \"cancer\", \"lung\"]\n",
    "content_list = list(zip(X, Y))\n",
    "\n",
    "seed = 0\n",
    "np.random.seed = seed\n",
    "np.random.shuffle(content_list)\n",
    "\n",
    "# call find_features function for each SMS message\n",
    "featuresets = [(find_features(text), label) for (text, label) in content_list]\n",
    "\n",
    "# split data to training, testing\n",
    "training, testing = model_selection.train_test_split(featuresets, test_size = 0.33, random_state = seed)\n",
    "\n",
    "names = [\"K Nearest Neighbors\", \"Decision Tree\", \"Random Forest\", \"Logistic Regression\", \"SGD Classifier\",\n",
    "         \"Naive Bayes\", \"SVM Linear\"]\n",
    "\n",
    "classifiers = [\n",
    "    KNeighborsClassifier(),\n",
    "    DecisionTreeClassifier(),\n",
    "    RandomForestClassifier(),\n",
    "    LogisticRegression(),\n",
    "    SGDClassifier(max_iter = 100),\n",
    "    MultinomialNB(),\n",
    "    SVC(kernel = 'linear')\n",
    "]\n",
    "\n",
    "models = zip(names, classifiers)\n",
    "\n",
    "for name, model in models:\n",
    "    nltk_model = SklearnClassifier(model)\n",
    "    nltk_model.train(training)\n",
    "    accuracy = nltk.classify.accuracy(nltk_model, testing) * 100\n",
    "    print(\"{} Accuracy: {}\".format(name, accuracy))"
   ]
  },
  {
   "cell_type": "markdown",
   "metadata": {},
   "source": [
    "# TF-IDF"
   ]
  },
  {
   "cell_type": "code",
   "execution_count": 99,
   "metadata": {},
   "outputs": [],
   "source": [
    "# need survey how does TF-IDF work, not yet done\n",
    "# from sklearn.feature_extraction.text import CountVectorizer\n",
    "from sklearn.feature_extraction.text import TfidfVectorizer\n",
    "\n",
    "df_x = df[\"clean_content\"]\n",
    "df_y = Y\n",
    "x_train, x_test, y_train, y_test = model_selection.train_test_split(df_x, df_y, test_size = 0.3)\n",
    "\n",
    "tfidf_cv = TfidfVectorizer(min_df = 1, max_df = 1, ngram_range = (1, 2), stop_words = \"english\")\n",
    "x_traincv = tfidf_cv.fit_transform(x_train)\n",
    "x_testcv = tfidf_cv.transform(x_test)\n",
    "\n",
    "mnb = MultinomialNB()\n",
    "y_train=y_train.astype('int')\n",
    "mnb.fit(x_traincv, y_train)\n",
    "\n",
    "predictions = mnb.predict(x_testcv)\n",
    "actual = np.array(y_test)"
   ]
  },
  {
   "cell_type": "code",
   "execution_count": 100,
   "metadata": {},
   "outputs": [
    {
     "name": "stdout",
     "output_type": "stream",
     "text": [
      "Accuracy: 0.4166666666666667\n"
     ]
    }
   ],
   "source": [
    "count = 0\n",
    "for i in range(len(predictions)):\n",
    "    if predictions[i] == actual[i]:\n",
    "        count += 1\n",
    "accuracy = count / float(len(predictions))\n",
    "print(\"Accuracy: {}\".format(accuracy))"
   ]
  },
  {
   "cell_type": "markdown",
   "metadata": {},
   "source": [
    "## Confusion matrix"
   ]
  },
  {
   "cell_type": "code",
   "execution_count": 101,
   "metadata": {},
   "outputs": [
    {
     "name": "stderr",
     "output_type": "stream",
     "text": [
      "/Library/Python/3.7/site-packages/sklearn/metrics/_classification.py:1272: UndefinedMetricWarning: Precision and F-score are ill-defined and being set to 0.0 in labels with no predicted samples. Use `zero_division` parameter to control this behavior.\n",
      "  _warn_prf(average, modifier, msg_start, len(result))\n"
     ]
    },
    {
     "name": "stdout",
     "output_type": "stream",
     "text": [
      "                precision    recall  f1-score   support\n",
      "\n",
      "Current Smoker       0.25      1.00      0.40         2\n",
      "        Smoker       0.67      0.67      0.67         3\n",
      "    Non-Smoker       0.00      0.00      0.00         3\n",
      "       Unknown       1.00      0.25      0.40         4\n",
      "\n",
      "      accuracy                           0.42        12\n",
      "     macro avg       0.48      0.48      0.37        12\n",
      "  weighted avg       0.54      0.42      0.37        12\n",
      "\n",
      "**************************************************************\n",
      "Normalized confusion matrix\n",
      "[[1.         0.         0.         0.        ]\n",
      " [0.33333333 0.66666667 0.         0.        ]\n",
      " [0.66666667 0.33333333 0.         0.        ]\n",
      " [0.75       0.         0.         0.25      ]]\n"
     ]
    },
    {
     "data": {
      "image/png": "[encoded data removed]",
      "text/plain": [
       "<Figure size 432x432 with 2 Axes>"
      ]
     },
     "metadata": {
      "needs_background": "light"
     },
     "output_type": "display_data"
    }
   ],
   "source": [
    "import itertools\n",
    "import matplotlib.pyplot as plt\n",
    "from sklearn.metrics import confusion_matrix\n",
    "from sklearn.metrics import classification_report\n",
    "import numpy as np\n",
    "\n",
    "def plot_confusion_matrix(cm, classes,\n",
    "                          normalize=False,\n",
    "                          title='Confusion matrix',\n",
    "                          cmap=plt.cm.Blues):\n",
    "    \"\"\"\n",
    "    This function prints and plots the confusion matrix.\n",
    "    Normalization can be applied by setting `normalize=True`.\n",
    "    \"\"\"\n",
    "    if normalize:\n",
    "        cm = cm.astype('float') / cm.sum(axis=1)[:, np.newaxis]\n",
    "        print(\"Normalized confusion matrix\")\n",
    "    else:\n",
    "        print('Confusion matrix, without normalization')\n",
    "\n",
    "    print(cm)\n",
    "\n",
    "    plt.imshow(cm, interpolation='nearest', cmap=cmap)\n",
    "    plt.title(title)\n",
    "    plt.colorbar()\n",
    "    tick_marks = np.arange(len(classes))\n",
    "    plt.xticks(tick_marks, classes, rotation=45)\n",
    "    plt.yticks(tick_marks, classes)\n",
    "\n",
    "    fmt = '.2f' if normalize else 'd'\n",
    "    thresh = cm.max() / 2.\n",
    "    for i, j in itertools.product(range(cm.shape[0]), range(cm.shape[1])):\n",
    "        plt.text(j, i, format(cm[i, j], fmt),\n",
    "                 horizontalalignment=\"center\",\n",
    "                 color=\"white\" if cm[i, j] > thresh else \"black\")\n",
    "\n",
    "    plt.ylabel('True label')\n",
    "    plt.xlabel('Predicted label')\n",
    "    plt.tight_layout()\n",
    "\n",
    "\n",
    "if __name__ == \"__main__\":\n",
    "    target_names = [ 'Current Smoker', 'Smoker', 'Non-Smoker', 'Unknown']\n",
    "    labels = actual\n",
    "    preds = predictions\n",
    "    print(classification_report(labels, preds, target_names=target_names))\n",
    "    print (\"**************************************************************\")\n",
    "\n",
    "    plt.figure(figsize=(6,6))\n",
    "    cnf_matrix = confusion_matrix(labels, preds)\n",
    "    plot_confusion_matrix(cnf_matrix, classes=target_names, normalize=True,\n",
    "                        title='normalized confusion matrix')\n",
    "\n",
    "    plt.show()"
   ]
  },
  {
   "cell_type": "code",
   "execution_count": null,
   "metadata": {},
   "outputs": [],
   "source": []
  },
  {
   "cell_type": "code",
   "execution_count": null,
   "metadata": {},
   "outputs": [],
   "source": []
  }
 ],
 "metadata": {
  "kernelspec": {
   "display_name": "Python 3.7.3 64-bit",
   "language": "python",
   "name": "python37364bit739cdca6e79043be8d1a8bcadc93c81e"
  },
  "language_info": {
   "codemirror_mode": {
    "name": "ipython",
    "version": 3
   },
   "file_extension": ".py",
   "mimetype": "text/x-python",
   "name": "python",
   "nbconvert_exporter": "python",
   "pygments_lexer": "ipython3",
   "version": "3.7.3"
  }
 },
 "nbformat": 4,
 "nbformat_minor": 4
}
