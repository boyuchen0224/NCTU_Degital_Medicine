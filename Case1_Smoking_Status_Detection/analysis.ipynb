{
 "cells": [
  {
   "cell_type": "markdown",
   "metadata": {},
   "source": [
    "# Read text to dataframe"
   ]
  },
  {
   "cell_type": "code",
   "execution_count": 325,
   "metadata": {},
   "outputs": [],
   "source": [
    "import pandas as pd\n",
    "import numpy as np\n",
    "import matplotlib.pyplot as plt\n",
    "import itertools\n",
    "from os import listdir"
   ]
  },
  {
   "cell_type": "code",
   "execution_count": 326,
   "metadata": {},
   "outputs": [],
   "source": [
    "from sklearn.metrics import confusion_matrix\n",
    "from sklearn.metrics import classification_report\n",
    "\n",
    "def readfile (path, filename):\n",
    "    f = open(path + filename, \"r\")\n",
    "    txt = f.read().splitlines()\n",
    "\n",
    "    flag = False\n",
    "    content = \"\"\n",
    "    try:\n",
    "        label = filename.split(\"_\")[0]\n",
    "        _id = filename.split(\"_\")[2].split('.')[0]\n",
    "    except:\n",
    "        label = 0\n",
    "        _id = filename.split(\"_\")[1].split('.')[0]\n",
    "\n",
    "    for line in txt:\n",
    "        if line[-1:] == \":\" : \n",
    "            flag = True\n",
    "            continue\n",
    "        if flag:\n",
    "            content += (\" \" + line)\n",
    "            \n",
    "    return (content, label, _id)\n",
    "\n",
    "def files_to_df(path, files):\n",
    "    df = pd.DataFrame(columns = [\"content\", \"label\", \"id\"])\n",
    "    for file in files:\n",
    "        content, label, _id = readfile(path, file)\n",
    "        df = df.append({\n",
    "            \"content\": content,\n",
    "            \"label\": label,\n",
    "            \"id\": _id\n",
    "\n",
    "        }, ignore_index=True)\n",
    "    return df\n",
    "\n",
    "def plot_confusion_matrix(cm, classes,\n",
    "                          normalize=False,\n",
    "                          title='Confusion matrix',\n",
    "                          cmap=plt.cm.Blues):\n",
    "    if normalize:\n",
    "        cm = cm.astype('float') / cm.sum(axis=1)[:, np.newaxis]\n",
    "#         print(\"Normalized confusion matrix\")\n",
    "#     else:\n",
    "#         print('Confusion matrix, without normalization')\n",
    "\n",
    "#     print(cm)\n",
    "\n",
    "    plt.imshow(cm, interpolation='nearest', cmap=cmap)\n",
    "    plt.title(title)\n",
    "    plt.colorbar()\n",
    "    tick_marks = np.arange(len(classes))\n",
    "    plt.xticks(tick_marks, classes, rotation=45)\n",
    "    plt.yticks(tick_marks, classes)\n",
    "\n",
    "    fmt = '.2f' if normalize else 'd'\n",
    "    thresh = cm.max() / 2.\n",
    "    for i, j in itertools.product(range(cm.shape[0]), range(cm.shape[1])):\n",
    "        plt.text(j, i, format(cm[i, j], fmt),\n",
    "                 horizontalalignment=\"center\",\n",
    "                 color=\"white\" if cm[i, j] > thresh else \"black\")\n",
    "\n",
    "    plt.ylabel('True label')\n",
    "    plt.xlabel('Predicted label')\n",
    "    plt.tight_layout()"
   ]
  },
  {
   "cell_type": "code",
   "execution_count": 327,
   "metadata": {},
   "outputs": [],
   "source": [
    "traning_files = listdir(\"./data/Training data/\")\n",
    "testing_files = listdir(\"./data/Testing data/\")\n",
    "df = files_to_df(\"./data/Training data/\", traning_files)\n",
    "df_test = files_to_df(\"./data/Testing data/\", testing_files)\n",
    "# df.to_csv(\"./data/traning_data.csv\", index=False)\n",
    "# df_test.to_csv(\"./data/testing_data.csv\", index=False)"
   ]
  },
  {
   "cell_type": "markdown",
   "metadata": {},
   "source": [
    "# Text Processing"
   ]
  },
  {
   "cell_type": "code",
   "execution_count": 328,
   "metadata": {},
   "outputs": [],
   "source": [
    "import nltk\n",
    "from nltk.probability import FreqDist\n",
    "from nltk.corpus import stopwords\n",
    "from nltk.tokenize import word_tokenize \n",
    "from nltk.stem import WordNetLemmatizer, PorterStemmer\n",
    "\n",
    "# nltk.download(\"stopwords\")\n",
    "# nltk.download('punkt')\n",
    "# nltk.download('wordnet')\n",
    "\n",
    "# stopwords setting\n",
    "stopwords = set(stopwords.words('english'))\n",
    "symbols   = ['.', ',', '’', '“', '”', '\"', \"''\",\n",
    "             \"'\", '*', '``', '**', '$', '%', '&', '#',\n",
    "             '-', '--', \"''\", '\"\"', '?', '!', ':', ';',\n",
    "             '(', ')', '[', ']', '{', '}', \"/\"]\n",
    "stopwords.update(symbols)\n",
    "\n",
    "\n",
    "# tokenize, lemmatize, stemming, filter with stopwords\n",
    "lemmatizer = WordNetLemmatizer()\n",
    "stemmer = PorterStemmer()\n",
    "clean_content = []\n",
    "\n",
    "for i in range(0, len(df[\"content\"])):\n",
    "    content = df[\"content\"][i]\n",
    "    word_list = word_tokenize(content.lower())\n",
    "    lemmatizer_stemming_content = \" \".join(\n",
    "        stemmer.stem(lemmatizer.lemmatize(word)) for word in word_list if word not in stopwords\n",
    "    )\n",
    "    clean_content.append(lemmatizer_stemming_content)\n",
    "    \n",
    "df = df.assign(clean_content = clean_content)\n",
    "\n",
    "clean_content = []\n",
    "\n",
    "for i in range(0, len(df_test[\"content\"])):\n",
    "    content = df_test[\"content\"][i]\n",
    "    word_list = word_tokenize(content.lower())\n",
    "    lemmatizer_stemming_content = \" \".join(\n",
    "        stemmer.stem(lemmatizer.lemmatize(word)) for word in word_list if word not in stopwords\n",
    "    )\n",
    "    clean_content.append(lemmatizer_stemming_content)\n",
    "\n",
    "df_test = df_test.assign(clean_content = clean_content)\n"
   ]
  },
  {
   "cell_type": "markdown",
   "metadata": {},
   "source": [
    "## Freq words"
   ]
  },
  {
   "cell_type": "code",
   "execution_count": 329,
   "metadata": {
    "scrolled": true
   },
   "outputs": [
    {
     "data": {
      "image/png": "[encoded data removed]",
      "text/plain": [
       "<Figure size 1152x288 with 1 Axes>"
      ]
     },
     "metadata": {
      "needs_background": "light"
     },
     "output_type": "display_data"
    },
    {
     "data": {
      "text/plain": [
       "<matplotlib.axes._subplots.AxesSubplot at 0x120b48da0>"
      ]
     },
     "execution_count": 329,
     "metadata": {},
     "output_type": "execute_result"
    }
   ],
   "source": [
    "all_words = []\n",
    "processed = df[\"clean_content\"]\n",
    "for message in processed:\n",
    "    words = word_tokenize(message)\n",
    "    for w in words:\n",
    "        all_words.append(w)\n",
    "        \n",
    "all_words = nltk.FreqDist(all_words)\n",
    "\n",
    "# show all words freq\n",
    "fdist_content = nltk.FreqDist(all_words)\n",
    "plt.figure(figsize=(16,4))\n",
    "fdist_content.plot(40,cumulative=False)"
   ]
  },
  {
   "cell_type": "markdown",
   "metadata": {},
   "source": [
    "## Training, Testing"
   ]
  },
  {
   "cell_type": "code",
   "execution_count": 330,
   "metadata": {},
   "outputs": [],
   "source": [
    "from sklearn.neighbors import KNeighborsClassifier\n",
    "from sklearn.tree import DecisionTreeClassifier\n",
    "from sklearn.ensemble import RandomForestClassifier\n",
    "from sklearn.linear_model import LogisticRegression, SGDClassifier\n",
    "from sklearn.naive_bayes import MultinomialNB\n",
    "from sklearn.svm import SVC\n",
    "from sklearn.metrics import classification_report, accuracy_score, confusion_matrix\n",
    "from nltk.classify import SklearnClassifier\n",
    "\n",
    "from sklearn import model_selection\n",
    "from sklearn.preprocessing import LabelEncoder"
   ]
  },
  {
   "cell_type": "code",
   "execution_count": 331,
   "metadata": {},
   "outputs": [
    {
     "name": "stdout",
     "output_type": "stream",
     "text": [
      "K Nearest Neighbors Accuracy: 33.33333333333333\n",
      "Decision Tree Accuracy: 41.66666666666667\n",
      "Random Forest Accuracy: 41.66666666666667\n",
      "Logistic Regression Accuracy: 33.33333333333333\n",
      "SGD Classifier Accuracy: 50.0\n",
      "SVM Linear Accuracy: 33.33333333333333\n"
     ]
    }
   ],
   "source": [
    "# label Y\n",
    "encoder = LabelEncoder()\n",
    "Y = encoder.fit_transform(df[\"label\"])\n",
    "\n",
    "# assign X\n",
    "X = list(df[\"clean_content\"])\n",
    "X_testing = list(df_test[\"clean_content\"])\n",
    "\n",
    "# word features\n",
    "word_features = [\"smoke\", \"tobacco\", \"cigarette\", \"cigarett\"] # cigarett => cigarette\n",
    "\n",
    "def find_features(content):\n",
    "    words = word_tokenize(content)\n",
    "    features = {}\n",
    "    for word in word_features:\n",
    "        features[word] = (word in words)\n",
    "    \n",
    "    return features\n",
    "\n",
    "content_list = list(zip(X, Y))\n",
    "\n",
    "# call find_features function for each SMS message\n",
    "featuresets = [(find_features(text), label) for (text, label) in content_list]\n",
    "\n",
    "# split data to training, testing\n",
    "training, testing = model_selection.train_test_split(featuresets, test_size = 0.3)\n",
    "\n",
    "names = [\"K Nearest Neighbors\", \"Decision Tree\", \"Random Forest\", \n",
    "         \"Logistic Regression\", \"SGD Classifier\", \"SVM Linear\"]\n",
    "\n",
    "classifiers = [\n",
    "    KNeighborsClassifier(),\n",
    "    DecisionTreeClassifier(),\n",
    "    RandomForestClassifier(),\n",
    "    LogisticRegression(),\n",
    "    SGDClassifier(max_iter = 500),\n",
    "    SVC(kernel = 'linear')\n",
    "]\n",
    "\n",
    "models = zip(names, classifiers)\n",
    "\n",
    "for name, model in models:\n",
    "    nltk_model = SklearnClassifier(model)\n",
    "    nltk_model.train(training)\n",
    "    accuracy = nltk.classify.accuracy(nltk_model, testing) * 100\n",
    "    print(\"{} Accuracy: {}\".format(name, accuracy))"
   ]
  },
  {
   "cell_type": "markdown",
   "metadata": {},
   "source": [
    "# TF-IDF"
   ]
  },
  {
   "cell_type": "code",
   "execution_count": 332,
   "metadata": {},
   "outputs": [
    {
     "name": "stdout",
     "output_type": "stream",
     "text": [
      "K Nearest Neighbors Accuracy: 50.0\n",
      "Decision Tree Accuracy: 41.66666666666667\n",
      "Random Forest Accuracy: 66.66666666666666\n",
      "Logistic Regression Accuracy: 33.33333333333333\n",
      "SGD Classifier Accuracy: 41.66666666666667\n",
      "SVM Linear Accuracy: 41.66666666666667\n"
     ]
    }
   ],
   "source": [
    "from sklearn.feature_extraction.text import TfidfVectorizer\n",
    "\n",
    "df_x = df[\"clean_content\"]\n",
    "df_y = Y\n",
    "\n",
    "x_train, x_test, y_train, y_test = model_selection.train_test_split(df_x, df_y, test_size = 0.3)\n",
    "\n",
    "tfidf_cv = TfidfVectorizer(max_df = 0.5, min_df = 0.1, ngram_range = (1, 5), stop_words = \"english\")\n",
    "x_traincv = tfidf_cv.fit_transform(x_train)\n",
    "x_testcv = tfidf_cv.transform(x_test)\n",
    "\n",
    "names = [\"K Nearest Neighbors\", \"Decision Tree\", \"Random Forest\", \n",
    "         \"Logistic Regression\", \"SGD Classifier\", \"SVM Linear\"]\n",
    "\n",
    "classifiers = [\n",
    "    KNeighborsClassifier(),\n",
    "    DecisionTreeClassifier(),\n",
    "    RandomForestClassifier(),\n",
    "    LogisticRegression(),\n",
    "    SGDClassifier(max_iter = 500),\n",
    "    SVC(kernel = 'linear')\n",
    "]\n",
    "\n",
    "models = zip(names, classifiers)\n",
    "actuals = []\n",
    "predictions = []\n",
    "for name, model in models:\n",
    "    y_train = y_train.astype('int')\n",
    "    model.fit(x_traincv, y_train)\n",
    "\n",
    "    prediction = model.predict(x_testcv)\n",
    "    actual = np.array(y_test)\n",
    "    predictions.append(prediction)\n",
    "    actuals.append(actual)\n",
    "\n",
    "    count = 0\n",
    "    for i in range(len(prediction)):\n",
    "        if prediction[i] == actual[i]:\n",
    "            count += 1\n",
    "    accuracy = (count / float(len(prediction))) * 100\n",
    "    print(\"{} Accuracy: {}\".format(name, accuracy))"
   ]
  },
  {
   "cell_type": "markdown",
   "metadata": {},
   "source": [
    "## Confusion matrix"
   ]
  },
  {
   "cell_type": "code",
   "execution_count": 333,
   "metadata": {},
   "outputs": [
    {
     "data": {
      "image/png": "[encoded data removed]",
      "text/plain": [
       "<Figure size 432x432 with 2 Axes>"
      ]
     },
     "metadata": {
      "needs_background": "light"
     },
     "output_type": "display_data"
    }
   ],
   "source": [
    "target_names = [ 'Current Smoker', 'Past Smoker', 'Non-Smoker', 'Unknown']\n",
    "labels = actuals[2] # Random Forest Accuracy\n",
    "preds = predictions[2] # Random Forest Accuracy\n",
    "\n",
    "plt.figure(figsize=(6,6))\n",
    "cnf_matrix = confusion_matrix(labels, preds)\n",
    "plot_confusion_matrix(cnf_matrix, classes=target_names, normalize=True,\n",
    "                    title='normalized confusion matrix')\n",
    "\n",
    "plt.show()"
   ]
  },
  {
   "cell_type": "markdown",
   "metadata": {},
   "source": [
    "## After our manual summary analysis"
   ]
  },
  {
   "cell_type": "code",
   "execution_count": 334,
   "metadata": {
    "scrolled": false
   },
   "outputs": [
    {
     "name": "stdout",
     "output_type": "stream",
     "text": [
      "K Nearest Neighbors Accuracy: 50.0\n",
      "Decision Tree Accuracy: 75.0\n",
      "Random Forest Accuracy: 83.33333333333334\n",
      "Logistic Regression Accuracy: 75.0\n",
      "SGD Classifier Accuracy: 75.0\n",
      "SVM Linear Accuracy: 75.0\n"
     ]
    },
    {
     "name": "stderr",
     "output_type": "stream",
     "text": [
      "/Users/chenboyu/Library/Python/3.7/lib/python/site-packages/ipykernel_launcher.py:10: DeprecationWarning: The default dtype for empty Series will be 'object' instead of 'float64' in a future version. Specify a dtype explicitly to silence this warning.\n",
      "  # Remove the CWD from sys.path while we load stuff.\n"
     ]
    }
   ],
   "source": [
    "# word features\n",
    "word_features = [\"smoke\", \"tobacco\", \"cigarette\", \"cigarett\"] # cigarett => cigarette\n",
    "second_word_features = [\"deny\", \"deni\", \"no\", \"not\", \n",
    "                        \"negative\", \"quit\", \"has\", \"ha\", \n",
    "                        \"was\", \"wa\", \"past\", \"former\", \n",
    "                        \"ex\", \"is\", \"current\"] # ha => has, deni => deny\n",
    "\n",
    "concat_word_features = list(np.concatenate((word_features, second_word_features), axis=None))\n",
    "\n",
    "tfidf = pd.Series()\n",
    "\n",
    "def find_features_by_second(content):\n",
    "    words = word_tokenize(content)\n",
    "    our_word_features = []\n",
    "    features = dict.fromkeys(concat_word_features)\n",
    "    \n",
    "    for word in concat_word_features:\n",
    "        if (word in words): \n",
    "            features[word] = 1\n",
    "            our_word_features.append(word)\n",
    "        else:\n",
    "            features[word] = 0\n",
    "    return features, our_word_features\n",
    "\n",
    "featuresets = []\n",
    "Y = encoder.fit_transform(df[\"label\"])\n",
    "\n",
    "for i in range(len(df[\"clean_content\"])):\n",
    "    featureset, our_word_feature = find_features_by_second(df[\"clean_content\"][i])\n",
    "    featuresets.append((featureset, Y[i]))\n",
    "    tfidf = tfidf.append(pd.Series(\" \".join(our_word_feature)), ignore_index = True)\n",
    "\n",
    "# split data to training, testing\n",
    "training, testing = model_selection.train_test_split(featuresets, test_size = 0.3)\n",
    "\n",
    "names = [\"K Nearest Neighbors\", \"Decision Tree\", \"Random Forest\", \n",
    "         \"Logistic Regression\", \"SGD Classifier\", \"SVM Linear\"]\n",
    "\n",
    "classifiers = [\n",
    "    KNeighborsClassifier(),\n",
    "    DecisionTreeClassifier(),\n",
    "    RandomForestClassifier(),\n",
    "    LogisticRegression(),\n",
    "    SGDClassifier(max_iter = 500),\n",
    "    SVC(kernel = 'linear')\n",
    "]\n",
    "\n",
    "models = zip(names, classifiers)\n",
    "\n",
    "for name, model in models:\n",
    "    nltk_model = SklearnClassifier(model)\n",
    "    nltk_model.train(training)\n",
    "    accuracy = nltk.classify.accuracy(nltk_model, testing) * 100\n",
    "    print(\"{} Accuracy: {}\".format(name, accuracy))"
   ]
  },
  {
   "cell_type": "code",
   "execution_count": 341,
   "metadata": {},
   "outputs": [
    {
     "name": "stdout",
     "output_type": "stream",
     "text": [
      "K Nearest Neighbors Accuracy: 58.333333333333336\n",
      "Decision Tree Accuracy: 58.333333333333336\n",
      "Random Forest Accuracy: 83.33333333333334\n",
      "Logistic Regression Accuracy: 83.33333333333334\n",
      "SGD Classifier Accuracy: 75.0\n",
      "SVM Linear Accuracy: 83.33333333333334\n"
     ]
    }
   ],
   "source": [
    "x_train, x_test, y_train, y_test = model_selection.train_test_split(tfidf, df_y, test_size = 0.3)\n",
    "\n",
    "tfidf_cv = TfidfVectorizer(max_df = 0.5, min_df = 0.1, ngram_range = (1, 3), stop_words = \"english\")\n",
    "x_traincv = tfidf_cv.fit_transform(x_train)\n",
    "x_testcv = tfidf_cv.transform(x_test)\n",
    "\n",
    "names = [\"K Nearest Neighbors\", \"Decision Tree\", \"Random Forest\", \n",
    "         \"Logistic Regression\", \"SGD Classifier\", \"SVM Linear\"]\n",
    "\n",
    "classifiers = [\n",
    "    KNeighborsClassifier(),\n",
    "    DecisionTreeClassifier(),\n",
    "    RandomForestClassifier(),\n",
    "    LogisticRegression(),\n",
    "    SGDClassifier(max_iter = 500),\n",
    "    SVC(kernel = 'linear')\n",
    "]\n",
    "\n",
    "models = zip(names, classifiers)\n",
    "actuals = []\n",
    "predictions = []\n",
    "for name, model in models:\n",
    "    y_train = y_train.astype('int')\n",
    "    model.fit(x_traincv, y_train)\n",
    "\n",
    "    prediction = model.predict(x_testcv)\n",
    "    actual = np.array(y_test)\n",
    "    predictions.append(prediction)\n",
    "    actuals.append(actual)\n",
    "\n",
    "    count = 0\n",
    "    for i in range(len(prediction)):\n",
    "        if prediction[i] == actual[i]:\n",
    "            count += 1\n",
    "    accuracy = (count / float(len(prediction))) * 100\n",
    "    print(\"{} Accuracy: {}\".format(name, accuracy))"
   ]
  },
  {
   "cell_type": "markdown",
   "metadata": {},
   "source": [
    "## Confusion matrix"
   ]
  },
  {
   "cell_type": "code",
   "execution_count": 344,
   "metadata": {},
   "outputs": [
    {
     "data": {
      "image/png": "[encoded data removed]",
      "text/plain": [
       "<Figure size 432x432 with 2 Axes>"
      ]
     },
     "metadata": {
      "needs_background": "light"
     },
     "output_type": "display_data"
    }
   ],
   "source": [
    "target_names = [ 'Current Smoker', 'Past Smoker', 'Non-Smoker', 'Unknown']\n",
    "actual = actuals[2] # Random Forest Accuracy\n",
    "prediction = predictions[2] # Random Forest Accuracy\n",
    "\n",
    "plt.figure(figsize=(6,6))\n",
    "cnf_matrix = confusion_matrix(actual, prediction)\n",
    "plot_confusion_matrix(cnf_matrix, classes=target_names, normalize=True,\n",
    "                    title='normalized confusion matrix')\n",
    "\n",
    "plt.show()"
   ]
  },
  {
   "cell_type": "code",
   "execution_count": null,
   "metadata": {},
   "outputs": [],
   "source": []
  }
 ],
 "metadata": {
  "kernelspec": {
   "display_name": "Python 3.7.3 64-bit",
   "language": "python",
   "name": "python37364bit739cdca6e79043be8d1a8bcadc93c81e"
  },
  "language_info": {
   "codemirror_mode": {
    "name": "ipython",
    "version": 3
   },
   "file_extension": ".py",
   "mimetype": "text/x-python",
   "name": "python",
   "nbconvert_exporter": "python",
   "pygments_lexer": "ipython3",
   "version": "3.7.3"
  }
 },
 "nbformat": 4,
 "nbformat_minor": 4
}
